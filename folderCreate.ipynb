{
  "nbformat": 4,
  "nbformat_minor": 0,
  "metadata": {
    "colab": {
      "name": "folderCreate.ipynb",
      "provenance": [],
      "collapsed_sections": [],
      "authorship_tag": "ABX9TyOG1tj/vHOj/WRRLj0l4VgD",
      "include_colab_link": true
    },
    "kernelspec": {
      "name": "python3",
      "display_name": "Python 3"
    },
    "language_info": {
      "name": "python"
    }
  },
  "cells": [
    {
      "cell_type": "markdown",
      "metadata": {
        "id": "view-in-github",
        "colab_type": "text"
      },
      "source": [
        "<a href=\"https://colab.research.google.com/github/papeltower/codesandbox/blob/main/folderCreate.ipynb\" target=\"_parent\"><img src=\"https://colab.research.google.com/assets/colab-badge.svg\" alt=\"Open In Colab\"/></a>"
      ]
    },
    {
      "cell_type": "code",
      "execution_count": null,
      "metadata": {
        "colab": {
          "base_uri": "https://localhost:8080/"
        },
        "id": "pdEz3TfuFjrs",
        "outputId": "f93dfa6c-0865-4631-97a9-7a8b56fe026f"
      },
      "outputs": [
        {
          "output_type": "stream",
          "name": "stdout",
          "text": [
            "Drive already mounted at /content/gdrive; to attempt to forcibly remount, call drive.mount(\"/content/gdrive\", force_remount=True).\n"
          ]
        }
      ],
      "source": [
        "# My Driveへマウント\n",
        "from google.colab import drive\n",
        "drive.mount('/content/gdrive')"
      ]
    },
    {
      "cell_type": "code",
      "source": [
        "# ライブラリのインポート\n",
        "import os\n",
        "import shutil\n",
        "import datetime"
      ],
      "metadata": {
        "id": "LeXsjR1ibM_P"
      },
      "execution_count": null,
      "outputs": []
    },
    {
      "cell_type": "code",
      "source": [
        "# My Drive -> folderCreateへディレクトリ移動\n",
        "%cd /content/gdrive/MyDrive/folderCreate\n",
        "\n",
        "# folderCreateの「folderlist.txt」をfolderlistとして取得\n",
        "with open('./folderlist.txt', 'r') as f:\n",
        "    folderlist = f.read().split('\\n')\n",
        "\n",
        "# folderCreateの「template.xlsx」をtemplateとして取得\n",
        "template = '../template.xlsx'\n",
        "\n",
        "# ファイル名に追加する年月（YYYYMM）をdateとして取得\n",
        "date = int(input('年月を入力してください（YYYYMM）: '))\n",
        "\n",
        "# folderの初期化\n",
        "shutil.rmtree('./folder')\n",
        "os.makedirs('./folder', exist_ok=True)\n",
        "\n",
        "# folderCreate -> folderへディレクトリ移動\n",
        "%cd /content/gdrive/MyDrive/folderCreate/folder\n",
        "\n",
        "# folderlistのフォルダを作成し、templateを「フォルダ名+年月.xlsx」として格納\n",
        "for i in folderlist:\n",
        "    os.makedirs(i, exist_ok=True)\n",
        "    shutil.copy(template, os.path.join('./', i, '{}_{}.xlsx'.format(i, date)))"
      ],
      "metadata": {
        "colab": {
          "base_uri": "https://localhost:8080/"
        },
        "id": "_AUYuyMeD3Td",
        "outputId": "f3b48639-ea14-40e6-f3f6-68e4f047c297"
      },
      "execution_count": null,
      "outputs": [
        {
          "output_type": "stream",
          "name": "stdout",
          "text": [
            "/content/gdrive/MyDrive/folderCreate\n",
            "年月を入力してください（YYYYMM）: 202204\n",
            "/content/gdrive/MyDrive/folderCreate/folder\n"
          ]
        }
      ]
    },
    {
      "cell_type": "code",
      "source": [
        "# templateが複数ある場合は、template1,2,3...を入れ、for 配下にif i = template1: else...で条件分岐させる。"
      ],
      "metadata": {
        "id": "Yybt2wX7IVSv"
      },
      "execution_count": null,
      "outputs": []
    }
  ]
}